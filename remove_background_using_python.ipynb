{
  "nbformat": 4,
  "nbformat_minor": 0,
  "metadata": {
    "colab": {
      "provenance": [],
      "toc_visible": true,
      "authorship_tag": "ABX9TyOCFrXBqCI/4vAdrhL/U7A4",
      "include_colab_link": true
    },
    "kernelspec": {
      "name": "python3",
      "display_name": "Python 3"
    },
    "language_info": {
      "name": "python"
    }
  },
  "cells": [
    {
      "cell_type": "markdown",
      "metadata": {
        "id": "view-in-github",
        "colab_type": "text"
      },
      "source": [
        "<a href=\"https://colab.research.google.com/github/saiachanta2728/Ace_SA/blob/main/remove_background_using_python.ipynb\" target=\"_parent\"><img src=\"https://colab.research.google.com/assets/colab-badge.svg\" alt=\"Open In Colab\"/></a>"
      ]
    },
    {
      "cell_type": "code",
      "execution_count": null,
      "metadata": {
        "id": "q1F4XeV9j6Ey"
      },
      "outputs": [],
      "source": [
        "def remove_background(image_path):\n",
        "\n",
        "    image = cv2.imread(image_path)\n",
        "\n",
        "    if image is None:\n",
        "        raise ValueError(f\"Image not found at path: {image_path}\")\n",
        "\n",
        "    mask = np.zeros(image.shape[:2], np.uint8)\n",
        "\n",
        "    bgdModel = np.zeros((1, 65), np.float64)\n",
        "    fgdModel = np.zeros((1, 65), np.float64)\n",
        "\n",
        "    rect = (50, 50, image.shape[1] - 50, image.shape[0] - 50)\n",
        "\n",
        "    cv2.grabCut(image, mask, rect, bgdModel, fgdModel, 5, cv2.GC_INIT_WITH_RECT)\n",
        "oreground)\n",
        "\n",
        "    mask2 = np.where((mask == 2) | (mask == 0), 0, 1).astype('uint8')\n",
        "\n",
        "    result = image * mask2[:, :, np.newaxis]\n",
        "\n",
        "    return result"
      ]
    }
  ]
}