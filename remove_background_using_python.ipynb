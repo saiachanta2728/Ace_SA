{
  "nbformat": 4,
  "nbformat_minor": 0,
  "metadata": {
    "colab": {
      "provenance": [],
      "toc_visible": true,
      "authorship_tag": "ABX9TyMRkX3XOLvzFyLunqhJOZ/B",
      "include_colab_link": true
    },
    "kernelspec": {
      "name": "python3",
      "display_name": "Python 3"
    },
    "language_info": {
      "name": "python"
    }
  },
  "cells": [
    {
      "cell_type": "markdown",
      "metadata": {
        "id": "view-in-github",
        "colab_type": "text"
      },
      "source": [
        "<a href=\"https://colab.research.google.com/github/saiachanta2728/Ace_SA/blob/main/remove_background_using_python.ipynb\" target=\"_parent\"><img src=\"https://colab.research.google.com/assets/colab-badge.svg\" alt=\"Open In Colab\"/></a>"
      ]
    },
    {
      "cell_type": "markdown",
      "source": [
        "!pip install rembg\n",
        "\n",
        "from PIL import Image\n",
        "import rembg\n",
        "\n",
        "input_path = \"/Users/saiachanta/Desktop/1.webp\"\n",
        "output_path = \"/Users/saiachanta/Desktop/1_no_bg.png\"\n",
        "\n",
        "input_image = Image.open(input_path)\n",
        "output_image = rembg.remove(input_image)\n",
        "output_image.save(output_path)"
      ],
      "metadata": {
        "id": "FDZTkcx-K0RX"
      }
    },
    {
      "cell_type": "code",
      "source": [
        "import os\n",
        "from PIL import Image\n",
        "import rembg\n",
        "\n",
        "# Input and output paths\n",
        "input_path = \"/Users/saiachanta/Desktop/20240122_151714.jpg\"\n",
        "output_path = \"/Users/saiachanta/Desktop/20240122_151714_no_bg.png\"\n",
        "\n",
        "# Check if input file exists\n",
        "if os.path.exists(input_path):\n",
        "    # Check if the file is readable\n",
        "    if os.access(input_path, os.R_OK):\n",
        "        # Open the input image\n",
        "        input_image = Image.open(input_path)\n",
        "\n",
        "        # Process the image\n",
        "        output_image = rembg.remove(input_image)\n",
        "\n",
        "        # Save the output image\n",
        "        output_image.save(output_path)\n",
        "        print(\"Background removed successfully!\")\n",
        "    else:\n",
        "        print(\"Permission denied: Unable to read the input image.\")\n",
        "else:\n",
        "    print(\"Input image does not exist.\")\n"
      ],
      "metadata": {
        "colab": {
          "base_uri": "https://localhost:8080/"
        },
        "id": "vGSYYidVRxR7",
        "outputId": "46d53476-0990-402b-d4b4-54642805427a"
      },
      "execution_count": 50,
      "outputs": [
        {
          "output_type": "stream",
          "name": "stdout",
          "text": [
            "Input image does not exist.\n"
          ]
        }
      ]
    }
  ]
}