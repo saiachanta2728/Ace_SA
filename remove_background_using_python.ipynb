{
  "nbformat": 4,
  "nbformat_minor": 0,
  "metadata": {
    "colab": {
      "provenance": [],
      "mount_file_id": "https://github.com/saiachanta2728/Ace_SA/blob/main/remove_background_using_python.ipynb",
      "authorship_tag": "ABX9TyPpyJ2Tma3ZX1bpFSp77Bh0",
      "include_colab_link": true
    },
    "kernelspec": {
      "name": "python3",
      "display_name": "Python 3"
    },
    "language_info": {
      "name": "python"
    }
  },
  "cells": [
    {
      "cell_type": "markdown",
      "metadata": {
        "id": "view-in-github",
        "colab_type": "text"
      },
      "source": [
        "<a href=\"https://colab.research.google.com/github/saiachanta2728/Ace_SA/blob/main/remove_background_using_python.ipynb\" target=\"_parent\"><img src=\"https://colab.research.google.com/assets/colab-badge.svg\" alt=\"Open In Colab\"/></a>"
      ]
    },
    {
      "cell_type": "markdown",
      "source": [
        "!pip install rembg\n",
        "\n",
        "from PIL import Image\n",
        "import rembg\n",
        "\n",
        "input_path = \"/Users/saiachanta/Desktop/1.webp\"\n",
        "output_path = \"/Users/saiachanta/Desktop/1_no_bg.png\"\n",
        "\n",
        "input_image = Image.open(input_path)\n",
        "output_image = rembg.remove(input_image)\n",
        "output_image.save(output_path)"
      ],
      "metadata": {
        "id": "FDZTkcx-K0RX"
      }
    },
    {
      "cell_type": "code",
      "source": [
        "\n",
        "import os\n",
        "from PIL import Image\n",
        "import rembg\n",
        "\n",
        "# Input and output paths\n",
        "input_path = \"/content/giraffe-614141.jpg\"\n",
        "output_path = \"saiii.png\"\n",
        "\n",
        "# Check if input file exists\n",
        "if os.path.exists(input_path):\n",
        "    # Check if the file is readable\n",
        "    if os.access(input_path, os.R_OK):\n",
        "        # Open the input image\n",
        "        input_image = Image.open(input_path)\n",
        "\n",
        "        # Process the image\n",
        "        output_image = rembg.remove(input_image)\n",
        "\n",
        "        # Save the output image\n",
        "        output_image.save(output_path)\n",
        "        print(\"Background removed successfully!\")\n",
        "    else:\n",
        "        print(\"Permission denied: Unable to read the input image.\")\n",
        "else:\n",
        "    print(\"Input image does not exist.\")\n"
      ],
      "metadata": {
        "colab": {
          "base_uri": "https://localhost:8080/"
        },
        "id": "vGSYYidVRxR7",
        "outputId": "43177c49-72bb-469a-e493-420a54b38985"
      },
      "execution_count": 8,
      "outputs": [
        {
          "output_type": "stream",
          "name": "stdout",
          "text": [
            "Background removed successfully!\n"
          ]
        }
      ]
    }
  ]
}